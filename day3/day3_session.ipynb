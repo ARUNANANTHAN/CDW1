{
  "nbformat": 4,
  "nbformat_minor": 0,
  "metadata": {
    "colab": {
      "provenance": []
    },
    "kernelspec": {
      "name": "python3",
      "display_name": "Python 3"
    },
    "language_info": {
      "name": "python"
    }
  },
  "cells": [
    {
      "cell_type": "code",
      "execution_count": 1,
      "metadata": {
        "id": "T0YO96-8bTB2"
      },
      "outputs": [],
      "source": [
        "import pandas as pd\n",
        "import numpy\n",
        "import matplotlib.pyplot as plt"
      ]
    },
    {
      "cell_type": "code",
      "source": [
        "!pip install keras\n",
        "!pip install tensorflow"
      ],
      "metadata": {
        "colab": {
          "base_uri": "https://localhost:8080/"
        },
        "id": "JXPaP3-rv_2u",
        "outputId": "50364f9a-4cd4-42fc-96c7-4d5098ae3649"
      },
      "execution_count": 36,
      "outputs": [
        {
          "output_type": "stream",
          "name": "stdout",
          "text": [
            "Requirement already satisfied: keras in /usr/local/lib/python3.11/dist-packages (3.5.0)\n",
            "Requirement already satisfied: absl-py in /usr/local/lib/python3.11/dist-packages (from keras) (1.4.0)\n",
            "Requirement already satisfied: numpy in /usr/local/lib/python3.11/dist-packages (from keras) (1.26.4)\n",
            "Requirement already satisfied: rich in /usr/local/lib/python3.11/dist-packages (from keras) (13.9.4)\n",
            "Requirement already satisfied: namex in /usr/local/lib/python3.11/dist-packages (from keras) (0.0.8)\n",
            "Requirement already satisfied: h5py in /usr/local/lib/python3.11/dist-packages (from keras) (3.12.1)\n",
            "Requirement already satisfied: optree in /usr/local/lib/python3.11/dist-packages (from keras) (0.13.1)\n",
            "Requirement already satisfied: ml-dtypes in /usr/local/lib/python3.11/dist-packages (from keras) (0.4.1)\n",
            "Requirement already satisfied: packaging in /usr/local/lib/python3.11/dist-packages (from keras) (24.2)\n",
            "Requirement already satisfied: typing-extensions>=4.5.0 in /usr/local/lib/python3.11/dist-packages (from optree->keras) (4.12.2)\n",
            "Requirement already satisfied: markdown-it-py>=2.2.0 in /usr/local/lib/python3.11/dist-packages (from rich->keras) (3.0.0)\n",
            "Requirement already satisfied: pygments<3.0.0,>=2.13.0 in /usr/local/lib/python3.11/dist-packages (from rich->keras) (2.18.0)\n",
            "Requirement already satisfied: mdurl~=0.1 in /usr/local/lib/python3.11/dist-packages (from markdown-it-py>=2.2.0->rich->keras) (0.1.2)\n",
            "Requirement already satisfied: tensorflow in /usr/local/lib/python3.11/dist-packages (2.17.1)\n",
            "Requirement already satisfied: absl-py>=1.0.0 in /usr/local/lib/python3.11/dist-packages (from tensorflow) (1.4.0)\n",
            "Requirement already satisfied: astunparse>=1.6.0 in /usr/local/lib/python3.11/dist-packages (from tensorflow) (1.6.3)\n",
            "Requirement already satisfied: flatbuffers>=24.3.25 in /usr/local/lib/python3.11/dist-packages (from tensorflow) (24.12.23)\n",
            "Requirement already satisfied: gast!=0.5.0,!=0.5.1,!=0.5.2,>=0.2.1 in /usr/local/lib/python3.11/dist-packages (from tensorflow) (0.6.0)\n",
            "Requirement already satisfied: google-pasta>=0.1.1 in /usr/local/lib/python3.11/dist-packages (from tensorflow) (0.2.0)\n",
            "Requirement already satisfied: h5py>=3.10.0 in /usr/local/lib/python3.11/dist-packages (from tensorflow) (3.12.1)\n",
            "Requirement already satisfied: libclang>=13.0.0 in /usr/local/lib/python3.11/dist-packages (from tensorflow) (18.1.1)\n",
            "Requirement already satisfied: ml-dtypes<0.5.0,>=0.3.1 in /usr/local/lib/python3.11/dist-packages (from tensorflow) (0.4.1)\n",
            "Requirement already satisfied: opt-einsum>=2.3.2 in /usr/local/lib/python3.11/dist-packages (from tensorflow) (3.4.0)\n",
            "Requirement already satisfied: packaging in /usr/local/lib/python3.11/dist-packages (from tensorflow) (24.2)\n",
            "Requirement already satisfied: protobuf!=4.21.0,!=4.21.1,!=4.21.2,!=4.21.3,!=4.21.4,!=4.21.5,<5.0.0dev,>=3.20.3 in /usr/local/lib/python3.11/dist-packages (from tensorflow) (4.25.5)\n",
            "Requirement already satisfied: requests<3,>=2.21.0 in /usr/local/lib/python3.11/dist-packages (from tensorflow) (2.32.3)\n",
            "Requirement already satisfied: setuptools in /usr/local/lib/python3.11/dist-packages (from tensorflow) (75.1.0)\n",
            "Requirement already satisfied: six>=1.12.0 in /usr/local/lib/python3.11/dist-packages (from tensorflow) (1.17.0)\n",
            "Requirement already satisfied: termcolor>=1.1.0 in /usr/local/lib/python3.11/dist-packages (from tensorflow) (2.5.0)\n",
            "Requirement already satisfied: typing-extensions>=3.6.6 in /usr/local/lib/python3.11/dist-packages (from tensorflow) (4.12.2)\n",
            "Requirement already satisfied: wrapt>=1.11.0 in /usr/local/lib/python3.11/dist-packages (from tensorflow) (1.17.0)\n",
            "Requirement already satisfied: grpcio<2.0,>=1.24.3 in /usr/local/lib/python3.11/dist-packages (from tensorflow) (1.69.0)\n",
            "Requirement already satisfied: tensorboard<2.18,>=2.17 in /usr/local/lib/python3.11/dist-packages (from tensorflow) (2.17.1)\n",
            "Requirement already satisfied: keras>=3.2.0 in /usr/local/lib/python3.11/dist-packages (from tensorflow) (3.5.0)\n",
            "Requirement already satisfied: tensorflow-io-gcs-filesystem>=0.23.1 in /usr/local/lib/python3.11/dist-packages (from tensorflow) (0.37.1)\n",
            "Requirement already satisfied: numpy<2.0.0,>=1.23.5 in /usr/local/lib/python3.11/dist-packages (from tensorflow) (1.26.4)\n",
            "Requirement already satisfied: wheel<1.0,>=0.23.0 in /usr/local/lib/python3.11/dist-packages (from astunparse>=1.6.0->tensorflow) (0.45.1)\n",
            "Requirement already satisfied: rich in /usr/local/lib/python3.11/dist-packages (from keras>=3.2.0->tensorflow) (13.9.4)\n",
            "Requirement already satisfied: namex in /usr/local/lib/python3.11/dist-packages (from keras>=3.2.0->tensorflow) (0.0.8)\n",
            "Requirement already satisfied: optree in /usr/local/lib/python3.11/dist-packages (from keras>=3.2.0->tensorflow) (0.13.1)\n",
            "Requirement already satisfied: charset-normalizer<4,>=2 in /usr/local/lib/python3.11/dist-packages (from requests<3,>=2.21.0->tensorflow) (3.4.1)\n",
            "Requirement already satisfied: idna<4,>=2.5 in /usr/local/lib/python3.11/dist-packages (from requests<3,>=2.21.0->tensorflow) (3.10)\n",
            "Requirement already satisfied: urllib3<3,>=1.21.1 in /usr/local/lib/python3.11/dist-packages (from requests<3,>=2.21.0->tensorflow) (2.3.0)\n",
            "Requirement already satisfied: certifi>=2017.4.17 in /usr/local/lib/python3.11/dist-packages (from requests<3,>=2.21.0->tensorflow) (2024.12.14)\n",
            "Requirement already satisfied: markdown>=2.6.8 in /usr/local/lib/python3.11/dist-packages (from tensorboard<2.18,>=2.17->tensorflow) (3.7)\n",
            "Requirement already satisfied: tensorboard-data-server<0.8.0,>=0.7.0 in /usr/local/lib/python3.11/dist-packages (from tensorboard<2.18,>=2.17->tensorflow) (0.7.2)\n",
            "Requirement already satisfied: werkzeug>=1.0.1 in /usr/local/lib/python3.11/dist-packages (from tensorboard<2.18,>=2.17->tensorflow) (3.1.3)\n",
            "Requirement already satisfied: MarkupSafe>=2.1.1 in /usr/local/lib/python3.11/dist-packages (from werkzeug>=1.0.1->tensorboard<2.18,>=2.17->tensorflow) (3.0.2)\n",
            "Requirement already satisfied: markdown-it-py>=2.2.0 in /usr/local/lib/python3.11/dist-packages (from rich->keras>=3.2.0->tensorflow) (3.0.0)\n",
            "Requirement already satisfied: pygments<3.0.0,>=2.13.0 in /usr/local/lib/python3.11/dist-packages (from rich->keras>=3.2.0->tensorflow) (2.18.0)\n",
            "Requirement already satisfied: mdurl~=0.1 in /usr/local/lib/python3.11/dist-packages (from markdown-it-py>=2.2.0->rich->keras>=3.2.0->tensorflow) (0.1.2)\n"
          ]
        }
      ]
    },
    {
      "cell_type": "code",
      "source": [
        "prices = pd.read_csv(\"/content/FB-stock-prices.csv\")"
      ],
      "metadata": {
        "id": "zZtM3KnJdFkv"
      },
      "execution_count": 4,
      "outputs": []
    },
    {
      "cell_type": "code",
      "source": [
        "prices.dtypes"
      ],
      "metadata": {
        "colab": {
          "base_uri": "https://localhost:8080/",
          "height": 147
        },
        "id": "U-uiHb7ldT3u",
        "outputId": "dd4d569c-cfc9-4c0f-8851-33c90d2adac3"
      },
      "execution_count": 5,
      "outputs": [
        {
          "output_type": "execute_result",
          "data": {
            "text/plain": [
              "Date     object\n",
              "Price     int64\n",
              "dtype: object"
            ],
            "text/html": [
              "<div>\n",
              "<style scoped>\n",
              "    .dataframe tbody tr th:only-of-type {\n",
              "        vertical-align: middle;\n",
              "    }\n",
              "\n",
              "    .dataframe tbody tr th {\n",
              "        vertical-align: top;\n",
              "    }\n",
              "\n",
              "    .dataframe thead th {\n",
              "        text-align: right;\n",
              "    }\n",
              "</style>\n",
              "<table border=\"1\" class=\"dataframe\">\n",
              "  <thead>\n",
              "    <tr style=\"text-align: right;\">\n",
              "      <th></th>\n",
              "      <th>0</th>\n",
              "    </tr>\n",
              "  </thead>\n",
              "  <tbody>\n",
              "    <tr>\n",
              "      <th>Date</th>\n",
              "      <td>object</td>\n",
              "    </tr>\n",
              "    <tr>\n",
              "      <th>Price</th>\n",
              "      <td>int64</td>\n",
              "    </tr>\n",
              "  </tbody>\n",
              "</table>\n",
              "</div><br><label><b>dtype:</b> object</label>"
            ]
          },
          "metadata": {},
          "execution_count": 5
        }
      ]
    },
    {
      "cell_type": "code",
      "source": [
        "plt.figure(figsize=(30,20))\n",
        "plt.plot(prices['Price'])\n",
        "plt.show()"
      ],
      "metadata": {
        "colab": {
          "base_uri": "https://localhost:8080/",
          "height": 665
        },
        "id": "D2gPDYhudo6Z",
        "outputId": "ef920c73-39ef-4128-d58d-b60bb2cb070f"
      },
      "execution_count": 8,
      "outputs": [
        {
          "output_type": "display_data",
          "data": {
            "text/plain": [
              "<Figure size 3000x2000 with 1 Axes>"
            ],
            "image/png": "[encoded data removed]"
          },
          "metadata": {}
        }
      ]
    },
    {
      "cell_type": "code",
      "source": [
        "prices.count()"
      ],
      "metadata": {
        "colab": {
          "base_uri": "https://localhost:8080/",
          "height": 147
        },
        "id": "ADPCz2DgeRx6",
        "outputId": "bd3f2f65-3dff-4ed4-a191-62f6f6c4629c"
      },
      "execution_count": 9,
      "outputs": [
        {
          "output_type": "execute_result",
          "data": {
            "text/plain": [
              "Date     251\n",
              "Price    251\n",
              "dtype: int64"
            ],
            "text/html": [
              "<div>\n",
              "<style scoped>\n",
              "    .dataframe tbody tr th:only-of-type {\n",
              "        vertical-align: middle;\n",
              "    }\n",
              "\n",
              "    .dataframe tbody tr th {\n",
              "        vertical-align: top;\n",
              "    }\n",
              "\n",
              "    .dataframe thead th {\n",
              "        text-align: right;\n",
              "    }\n",
              "</style>\n",
              "<table border=\"1\" class=\"dataframe\">\n",
              "  <thead>\n",
              "    <tr style=\"text-align: right;\">\n",
              "      <th></th>\n",
              "      <th>0</th>\n",
              "    </tr>\n",
              "  </thead>\n",
              "  <tbody>\n",
              "    <tr>\n",
              "      <th>Date</th>\n",
              "      <td>251</td>\n",
              "    </tr>\n",
              "    <tr>\n",
              "      <th>Price</th>\n",
              "      <td>251</td>\n",
              "    </tr>\n",
              "  </tbody>\n",
              "</table>\n",
              "</div><br><label><b>dtype:</b> int64</label>"
            ]
          },
          "metadata": {},
          "execution_count": 9
        }
      ]
    },
    {
      "cell_type": "markdown",
      "source": [
        "Data Pre-Processing"
      ],
      "metadata": {
        "id": "FLQguEkkeqyC"
      }
    },
    {
      "cell_type": "code",
      "source": [
        "from sklearn.preprocessing import StandardScaler\n",
        "sc = StandardScaler()\n",
        "scaled_prices = sc.fit_transform(prices[[\"Price\"]].values)"
      ],
      "metadata": {
        "id": "PnJ5JfTDeyMs"
      },
      "execution_count": 10,
      "outputs": []
    },
    {
      "cell_type": "code",
      "source": [
        "print(scaled_prices)"
      ],
      "metadata": {
        "colab": {
          "base_uri": "https://localhost:8080/"
        },
        "id": "GSCafac_ftNk",
        "outputId": "c29997f6-9e51-4e44-80a6-b74c1bc2b52c"
      },
      "execution_count": 11,
      "outputs": [
        {
          "output_type": "stream",
          "name": "stdout",
          "text": [
            "[[-1.49673154]\n",
            " [-1.4393189 ]\n",
            " [-1.66896946]\n",
            " [-1.49673154]\n",
            " [-1.52543786]\n",
            " [-1.84120738]\n",
            " [-2.01344531]\n",
            " [-1.98473899]\n",
            " [-2.15697691]\n",
            " [-2.01344531]\n",
            " [-1.7263821 ]\n",
            " [-1.55414418]\n",
            " [-1.38190626]\n",
            " [-1.32449362]\n",
            " [-1.23837465]\n",
            " [-1.12354937]\n",
            " [-1.41061258]\n",
            " [-1.61155682]\n",
            " [-1.81250106]\n",
            " [-1.69767578]\n",
            " [-1.55414418]\n",
            " [-1.55414418]\n",
            " [-1.5828505 ]\n",
            " [-1.52543786]\n",
            " [-1.55414418]\n",
            " [-1.49673154]\n",
            " [-1.41061258]\n",
            " [-1.46802522]\n",
            " [-1.4393189 ]\n",
            " [-1.35319994]\n",
            " [-1.35319994]\n",
            " [-1.49673154]\n",
            " [-1.69767578]\n",
            " [-1.75508842]\n",
            " [-1.5828505 ]\n",
            " [-1.64026314]\n",
            " [-1.89862003]\n",
            " [-1.81250106]\n",
            " [-1.61155682]\n",
            " [-1.78379474]\n",
            " [-1.89862003]\n",
            " [-1.81250106]\n",
            " [-1.64026314]\n",
            " [-1.89862003]\n",
            " [-1.5828505 ]\n",
            " [-1.61155682]\n",
            " [-1.35319994]\n",
            " [-1.52543786]\n",
            " [-1.35319994]\n",
            " [-1.20966833]\n",
            " [-1.06613673]\n",
            " [-1.20966833]\n",
            " [-0.89389881]\n",
            " [-0.77907353]\n",
            " [-0.86519249]\n",
            " [-1.12354937]\n",
            " [-1.20966833]\n",
            " [-1.09484305]\n",
            " [-0.86519249]\n",
            " [-0.95131145]\n",
            " [-0.75036721]\n",
            " [-0.63554192]\n",
            " [-0.34847872]\n",
            " [-0.43459768]\n",
            " [-0.23365344]\n",
            " [-0.23365344]\n",
            " [-0.26235976]\n",
            " [-0.26235976]\n",
            " [-0.3197724 ]\n",
            " [-0.52071664]\n",
            " [-0.37718504]\n",
            " [-0.43459768]\n",
            " [-0.54942296]\n",
            " [-0.52071664]\n",
            " [-0.57812928]\n",
            " [-0.69295457]\n",
            " [-0.57812928]\n",
            " [-0.52071664]\n",
            " [-0.49201032]\n",
            " [-0.40589136]\n",
            " [ 0.25435401]\n",
            " [ 0.11082241]\n",
            " [ 0.05340977]\n",
            " [-0.09012183]\n",
            " [-0.1762408 ]\n",
            " [-0.03270919]\n",
            " [-0.06141551]\n",
            " [-0.43459768]\n",
            " [-0.40589136]\n",
            " [-0.52071664]\n",
            " [-0.463304  ]\n",
            " [-0.14753448]\n",
            " [-0.1762408 ]\n",
            " [-0.3197724 ]\n",
            " [-0.20494712]\n",
            " [-0.06141551]\n",
            " [-0.14753448]\n",
            " [ 0.11082241]\n",
            " [ 0.19694137]\n",
            " [ 0.19694137]\n",
            " [ 0.34047297]\n",
            " [ 0.22564769]\n",
            " [ 0.22564769]\n",
            " [ 0.22564769]\n",
            " [ 0.13952873]\n",
            " [ 0.25435401]\n",
            " [ 0.45529825]\n",
            " [ 0.36917929]\n",
            " [ 0.25435401]\n",
            " [ 0.31176665]\n",
            " [ 0.28306033]\n",
            " [ 0.45529825]\n",
            " [ 0.45529825]\n",
            " [ 0.28306033]\n",
            " [ 0.45529825]\n",
            " [ 0.25435401]\n",
            " [ 0.31176665]\n",
            " [ 0.5127109 ]\n",
            " [ 0.57012354]\n",
            " [ 0.62753618]\n",
            " [ 0.57012354]\n",
            " [ 1.00071834]\n",
            " [ 0.88589306]\n",
            " [ 0.77106778]\n",
            " [ 0.9433057 ]\n",
            " [ 0.97201202]\n",
            " [ 0.91459938]\n",
            " [ 0.82848042]\n",
            " [ 0.71365514]\n",
            " [ 0.82848042]\n",
            " [ 0.91459938]\n",
            " [ 0.88589306]\n",
            " [ 0.77106778]\n",
            " [ 0.6562425 ]\n",
            " [ 0.57012354]\n",
            " [ 0.45529825]\n",
            " [ 0.59882986]\n",
            " [ 0.71365514]\n",
            " [ 0.85718674]\n",
            " [ 1.40260683]\n",
            " [ 1.46001947]\n",
            " [ 1.34519419]\n",
            " [ 1.48872579]\n",
            " [ 1.05813098]\n",
            " [ 1.00071834]\n",
            " [ 0.88589306]\n",
            " [ 0.85718674]\n",
            " [ 1.08683731]\n",
            " [ 1.20166259]\n",
            " [ 1.23036891]\n",
            " [ 1.17295627]\n",
            " [ 1.14424995]\n",
            " [ 1.11554363]\n",
            " [ 1.20166259]\n",
            " [ 1.20166259]\n",
            " [ 1.31648787]\n",
            " [ 1.05813098]\n",
            " [ 0.97201202]\n",
            " [ 0.97201202]\n",
            " [ 1.08683731]\n",
            " [ 1.20166259]\n",
            " [ 1.28778155]\n",
            " [ 1.34519419]\n",
            " [ 1.23036891]\n",
            " [ 1.48872579]\n",
            " [ 1.71837636]\n",
            " [ 1.66096372]\n",
            " [ 1.74708268]\n",
            " [ 1.54613843]\n",
            " [ 1.57484475]\n",
            " [ 1.74708268]\n",
            " [ 1.63225739]\n",
            " [ 1.63225739]\n",
            " [ 1.66096372]\n",
            " [ 1.60355107]\n",
            " [ 1.60355107]\n",
            " [ 1.51743211]\n",
            " [ 1.48872579]\n",
            " [ 1.25907523]\n",
            " [ 1.00071834]\n",
            " [ 1.02942466]\n",
            " [ 0.62753618]\n",
            " [ 0.71365514]\n",
            " [ 0.91459938]\n",
            " [ 0.9433057 ]\n",
            " [ 0.57012354]\n",
            " [ 0.54141722]\n",
            " [ 0.5127109 ]\n",
            " [ 0.62753618]\n",
            " [ 0.13952873]\n",
            " [ 0.34047297]\n",
            " [ 0.36917929]\n",
            " [ 0.22564769]\n",
            " [ 0.25435401]\n",
            " [ 0.11082241]\n",
            " [ 0.08211609]\n",
            " [ 0.11082241]\n",
            " [ 0.22564769]\n",
            " [ 0.11082241]\n",
            " [ 0.39788561]\n",
            " [ 0.54141722]\n",
            " [ 0.57012354]\n",
            " [ 0.59882986]\n",
            " [ 0.11082241]\n",
            " [ 0.22564769]\n",
            " [-0.14753448]\n",
            " [-0.26235976]\n",
            " [-0.11882816]\n",
            " [ 0.08211609]\n",
            " [ 0.25435401]\n",
            " [ 0.19694137]\n",
            " [ 0.31176665]\n",
            " [ 0.42659193]\n",
            " [ 0.57012354]\n",
            " [ 0.5127109 ]\n",
            " [ 0.39788561]\n",
            " [ 0.19694137]\n",
            " [ 0.19694137]\n",
            " [ 0.57012354]\n",
            " [ 0.77106778]\n",
            " [ 0.62753618]\n",
            " [ 0.57012354]\n",
            " [ 0.5127109 ]\n",
            " [ 0.68494882]\n",
            " [ 0.57012354]\n",
            " [ 0.45529825]\n",
            " [ 0.57012354]\n",
            " [ 0.34047297]\n",
            " [ 0.48400458]\n",
            " [ 0.08211609]\n",
            " [-0.29106608]\n",
            " [-0.3197724 ]\n",
            " [-0.40589136]\n",
            " [-0.09012183]\n",
            " [ 0.05340977]\n",
            " [ 0.28306033]\n",
            " [ 0.25435401]\n",
            " [ 0.25435401]\n",
            " [ 0.36917929]\n",
            " [ 0.36917929]\n",
            " [ 0.59882986]\n",
            " [ 0.39788561]\n",
            " [ 0.36917929]\n",
            " [ 0.11082241]\n",
            " [ 0.36917929]\n",
            " [ 0.25435401]\n",
            " [ 0.39788561]\n",
            " [ 0.71365514]\n",
            " [ 0.71365514]\n",
            " [ 0.62753618]\n",
            " [ 0.6562425 ]]\n"
          ]
        }
      ]
    },
    {
      "cell_type": "code",
      "source": [
        "total_size =len(scaled_prices)\n",
        "test_size = 50\n",
        "train_size = total_size - test_size"
      ],
      "metadata": {
        "id": "fxttROzKgVMk"
      },
      "execution_count": 12,
      "outputs": []
    },
    {
      "cell_type": "code",
      "source": [
        "print(total_size)\n",
        "print(test_size)\n",
        "print(train_size)"
      ],
      "metadata": {
        "colab": {
          "base_uri": "https://localhost:8080/"
        },
        "id": "Bx0y3vpHhJqp",
        "outputId": "68ed9599-b1c6-4eb9-df01-175d72ca336a"
      },
      "execution_count": 13,
      "outputs": [
        {
          "output_type": "stream",
          "name": "stdout",
          "text": [
            "251\n",
            "50\n",
            "201\n"
          ]
        }
      ]
    },
    {
      "cell_type": "code",
      "source": [
        "training_prices = scaled_prices[0:train_size]\n",
        "test_prices = scaled_prices[train_size:]"
      ],
      "metadata": {
        "id": "BzaUxqLrhc9z"
      },
      "execution_count": 15,
      "outputs": []
    },
    {
      "cell_type": "code",
      "source": [
        "print(training_prices.shape)"
      ],
      "metadata": {
        "colab": {
          "base_uri": "https://localhost:8080/"
        },
        "id": "f8xEKLWthz0z",
        "outputId": "24d575ef-17fd-4c56-f89b-7c7d56951d55"
      },
      "execution_count": 17,
      "outputs": [
        {
          "output_type": "stream",
          "name": "stdout",
          "text": [
            "(201, 1)\n"
          ]
        }
      ]
    },
    {
      "cell_type": "code",
      "source": [
        "def create_rnn_dataset(data, lookback=1):\n",
        "  data_x=[]\n",
        "  data_y=[]\n",
        "  for i in range(len(data)-lookback-1):\n",
        "    a = data[i:(i+lookback),0]\n",
        "    data_x.append(a)\n",
        "    data_y.append(a)\n",
        "  return numpy.array(data_x), numpy.array(data_y)"
      ],
      "metadata": {
        "id": "Eo8MQ18biCmu"
      },
      "execution_count": 22,
      "outputs": []
    },
    {
      "cell_type": "code",
      "source": [
        "lookback = 25\n",
        "train_req_x, train_req_y = create_rnn_dataset(training_prices, lookback)"
      ],
      "metadata": {
        "id": "VV87AgFIlIoF"
      },
      "execution_count": 28,
      "outputs": []
    },
    {
      "cell_type": "code",
      "source": [
        "train_req_y.shape"
      ],
      "metadata": {
        "colab": {
          "base_uri": "https://localhost:8080/"
        },
        "id": "l6SEsiPglx-S",
        "outputId": "b8321e59-e68f-48c3-b8bf-a4f4f8e98ccc"
      },
      "execution_count": 29,
      "outputs": [
        {
          "output_type": "execute_result",
          "data": {
            "text/plain": [
              "(175, 25)"
            ]
          },
          "metadata": {},
          "execution_count": 29
        }
      ]
    },
    {
      "cell_type": "code",
      "source": [
        "train_req_x.shape"
      ],
      "metadata": {
        "colab": {
          "base_uri": "https://localhost:8080/"
        },
        "id": "cpVH7Yskl8hV",
        "outputId": "a5b52688-e74a-4e79-ffb3-3a59c8a7503a"
      },
      "execution_count": 30,
      "outputs": [
        {
          "output_type": "execute_result",
          "data": {
            "text/plain": [
              "(175, 25)"
            ]
          },
          "metadata": {},
          "execution_count": 30
        }
      ]
    },
    {
      "cell_type": "code",
      "source": [
        "train_req_x = numpy.reshape(train_req_x, (train_req_x.shape[0], 1, train_req_x.shape[1]))"
      ],
      "metadata": {
        "id": "K0Ak_1nCmCVk"
      },
      "execution_count": 34,
      "outputs": []
    },
    {
      "cell_type": "code",
      "source": [
        "print(train_req_x.shape)"
      ],
      "metadata": {
        "colab": {
          "base_uri": "https://localhost:8080/"
        },
        "id": "VGshBkN-mM_-",
        "outputId": "064d5f06-a0bf-4fea-ca67-b336b908158b"
      },
      "execution_count": 35,
      "outputs": [
        {
          "output_type": "stream",
          "name": "stdout",
          "text": [
            "(175, 1, 25)\n"
          ]
        }
      ]
    },
    {
      "cell_type": "code",
      "source": [
        "from keras.models import Sequential\n",
        "from keras.layers import SimpleRNN, Dense\n",
        "import tensorflow as tf"
      ],
      "metadata": {
        "id": "jA8j7UHQwSQf"
      },
      "execution_count": 38,
      "outputs": []
    },
    {
      "cell_type": "code",
      "source": [
        "price_model = Sequential()\n",
        "price_model.add(SimpleRNN(32,input_shape=(1,lookback)))\n",
        "price_model.add(Dense(1))\n",
        "price_model.compile( optimizer='adam', loss='mean_squared_error',metrics=['mse','accuracy'])"
      ],
      "metadata": {
        "colab": {
          "base_uri": "https://localhost:8080/"
        },
        "id": "loujvBzyw_uQ",
        "outputId": "673a7c73-cf1d-4bb9-8929-dabb29b2814f"
      },
      "execution_count": 45,
      "outputs": [
        {
          "output_type": "stream",
          "name": "stderr",
          "text": [
            "/usr/local/lib/python3.11/dist-packages/keras/src/layers/rnn/rnn.py:204: UserWarning: Do not pass an `input_shape`/`input_dim` argument to a layer. When using Sequential models, prefer using an `Input(shape)` object as the first layer in the model instead.\n",
            "  super().__init__(**kwargs)\n"
          ]
        }
      ]
    },
    {
      "cell_type": "code",
      "source": [
        "price_model.summary()"
      ],
      "metadata": {
        "colab": {
          "base_uri": "https://localhost:8080/",
          "height": 204
        },
        "id": "XqOzFb9Cx6Le",
        "outputId": "a3dd4378-ab6d-4fda-a058-2a6548e120c2"
      },
      "execution_count": 46,
      "outputs": [
        {
          "output_type": "display_data",
          "data": {
            "text/plain": [
              "\u001b[1mModel: \"sequential_3\"\u001b[0m\n"
            ],
            "text/html": [
              "<pre style=\"white-space:pre;overflow-x:auto;line-height:normal;font-family:Menlo,'DejaVu Sans Mono',consolas,'Courier New',monospace\"><span style=\"font-weight: bold\">Model: \"sequential_3\"</span>\n",
              "</pre>\n"
            ]
          },
          "metadata": {}
        },
        {
          "output_type": "display_data",
          "data": {
            "text/plain": [
              "┏━━━━━━━━━━━━━━━━━━━━━━━━━━━━━━━━━━━━━━┳━━━━━━━━━━━━━━━━━━━━━━━━━━━━━┳━━━━━━━━━━━━━━━━━┓\n",
              "┃\u001b[1m \u001b[0m\u001b[1mLayer (type)                        \u001b[0m\u001b[1m \u001b[0m┃\u001b[1m \u001b[0m\u001b[1mOutput Shape               \u001b[0m\u001b[1m \u001b[0m┃\u001b[1m \u001b[0m\u001b[1m        Param #\u001b[0m\u001b[1m \u001b[0m┃\n",
              "┡━━━━━━━━━━━━━━━━━━━━━━━━━━━━━━━━━━━━━━╇━━━━━━━━━━━━━━━━━━━━━━━━━━━━━╇━━━━━━━━━━━━━━━━━┩\n",
              "│ simple_rnn_3 (\u001b[38;5;33mSimpleRNN\u001b[0m)             │ (\u001b[38;5;45mNone\u001b[0m, \u001b[38;5;34m32\u001b[0m)                  │           \u001b[38;5;34m1,856\u001b[0m │\n",
              "├──────────────────────────────────────┼─────────────────────────────┼─────────────────┤\n",
              "│ dense_2 (\u001b[38;5;33mDense\u001b[0m)                      │ (\u001b[38;5;45mNone\u001b[0m, \u001b[38;5;34m1\u001b[0m)                   │              \u001b[38;5;34m33\u001b[0m │\n",
              "└──────────────────────────────────────┴─────────────────────────────┴─────────────────┘\n"
            ],
            "text/html": [
              "<pre style=\"white-space:pre;overflow-x:auto;line-height:normal;font-family:Menlo,'DejaVu Sans Mono',consolas,'Courier New',monospace\">┏━━━━━━━━━━━━━━━━━━━━━━━━━━━━━━━━━━━━━━┳━━━━━━━━━━━━━━━━━━━━━━━━━━━━━┳━━━━━━━━━━━━━━━━━┓\n",
              "┃<span style=\"font-weight: bold\"> Layer (type)                         </span>┃<span style=\"font-weight: bold\"> Output Shape                </span>┃<span style=\"font-weight: bold\">         Param # </span>┃\n",
              "┡━━━━━━━━━━━━━━━━━━━━━━━━━━━━━━━━━━━━━━╇━━━━━━━━━━━━━━━━━━━━━━━━━━━━━╇━━━━━━━━━━━━━━━━━┩\n",
              "│ simple_rnn_3 (<span style=\"color: #0087ff; text-decoration-color: #0087ff\">SimpleRNN</span>)             │ (<span style=\"color: #00d7ff; text-decoration-color: #00d7ff\">None</span>, <span style=\"color: #00af00; text-decoration-color: #00af00\">32</span>)                  │           <span style=\"color: #00af00; text-decoration-color: #00af00\">1,856</span> │\n",
              "├──────────────────────────────────────┼─────────────────────────────┼─────────────────┤\n",
              "│ dense_2 (<span style=\"color: #0087ff; text-decoration-color: #0087ff\">Dense</span>)                      │ (<span style=\"color: #00d7ff; text-decoration-color: #00d7ff\">None</span>, <span style=\"color: #00af00; text-decoration-color: #00af00\">1</span>)                   │              <span style=\"color: #00af00; text-decoration-color: #00af00\">33</span> │\n",
              "└──────────────────────────────────────┴─────────────────────────────┴─────────────────┘\n",
              "</pre>\n"
            ]
          },
          "metadata": {}
        },
        {
          "output_type": "display_data",
          "data": {
            "text/plain": [
              "\u001b[1m Total params: \u001b[0m\u001b[38;5;34m1,889\u001b[0m (7.38 KB)\n"
            ],
            "text/html": [
              "<pre style=\"white-space:pre;overflow-x:auto;line-height:normal;font-family:Menlo,'DejaVu Sans Mono',consolas,'Courier New',monospace\"><span style=\"font-weight: bold\"> Total params: </span><span style=\"color: #00af00; text-decoration-color: #00af00\">1,889</span> (7.38 KB)\n",
              "</pre>\n"
            ]
          },
          "metadata": {}
        },
        {
          "output_type": "display_data",
          "data": {
            "text/plain": [
              "\u001b[1m Trainable params: \u001b[0m\u001b[38;5;34m1,889\u001b[0m (7.38 KB)\n"
            ],
            "text/html": [
              "<pre style=\"white-space:pre;overflow-x:auto;line-height:normal;font-family:Menlo,'DejaVu Sans Mono',consolas,'Courier New',monospace\"><span style=\"font-weight: bold\"> Trainable params: </span><span style=\"color: #00af00; text-decoration-color: #00af00\">1,889</span> (7.38 KB)\n",
              "</pre>\n"
            ]
          },
          "metadata": {}
        },
        {
          "output_type": "display_data",
          "data": {
            "text/plain": [
              "\u001b[1m Non-trainable params: \u001b[0m\u001b[38;5;34m0\u001b[0m (0.00 B)\n"
            ],
            "text/html": [
              "<pre style=\"white-space:pre;overflow-x:auto;line-height:normal;font-family:Menlo,'DejaVu Sans Mono',consolas,'Courier New',monospace\"><span style=\"font-weight: bold\"> Non-trainable params: </span><span style=\"color: #00af00; text-decoration-color: #00af00\">0</span> (0.00 B)\n",
              "</pre>\n"
            ]
          },
          "metadata": {}
        }
      ]
    },
    {
      "cell_type": "code",
      "source": [
        "price_model.fit(train_req_x, train_req_y, epochs=5, batch_size=10, verbose=1)"
      ],
      "metadata": {
        "colab": {
          "base_uri": "https://localhost:8080/"
        },
        "id": "M8GHmhWvyZb4",
        "outputId": "bee376c9-07fe-41b5-96b1-0179d3321ad8"
      },
      "execution_count": 47,
      "outputs": [
        {
          "output_type": "stream",
          "name": "stdout",
          "text": [
            "Epoch 1/5\n",
            "\u001b[1m18/18\u001b[0m \u001b[32m━━━━━━━━━━━━━━━━━━━━\u001b[0m\u001b[37m\u001b[0m \u001b[1m2s\u001b[0m 2ms/step - accuracy: 0.0000e+00 - loss: 1.3101 - mse: 1.3101\n",
            "Epoch 2/5\n",
            "\u001b[1m18/18\u001b[0m \u001b[32m━━━━━━━━━━━━━━━━━━━━\u001b[0m\u001b[37m\u001b[0m \u001b[1m0s\u001b[0m 2ms/step - accuracy: 0.0000e+00 - loss: 0.1847 - mse: 0.1847  \n",
            "Epoch 3/5\n",
            "\u001b[1m18/18\u001b[0m \u001b[32m━━━━━━━━━━━━━━━━━━━━\u001b[0m\u001b[37m\u001b[0m \u001b[1m0s\u001b[0m 2ms/step - accuracy: 0.0000e+00 - loss: 0.1424 - mse: 0.1424 \n",
            "Epoch 4/5\n",
            "\u001b[1m18/18\u001b[0m \u001b[32m━━━━━━━━━━━━━━━━━━━━\u001b[0m\u001b[37m\u001b[0m \u001b[1m0s\u001b[0m 4ms/step - accuracy: 0.0000e+00 - loss: 0.1167 - mse: 0.1167\n",
            "Epoch 5/5\n",
            "\u001b[1m18/18\u001b[0m \u001b[32m━━━━━━━━━━━━━━━━━━━━\u001b[0m\u001b[37m\u001b[0m \u001b[1m0s\u001b[0m 2ms/step - accuracy: 0.0000e+00 - loss: 0.1165 - mse: 0.1165 \n"
          ]
        },
        {
          "output_type": "execute_result",
          "data": {
            "text/plain": [
              "<keras.src.callbacks.history.History at 0x7fe6d03a64d0>"
            ]
          },
          "metadata": {},
          "execution_count": 47
        }
      ]
    },
    {
      "cell_type": "code",
      "source": [
        "text_req_x, text_req_y = create_rnn_dataset(training_prices, lookback)\n",
        "text_req_x=numpy.reshape(text_req_x, (text_req_x.shape[0], 1, text_req_x.shape[1]))"
      ],
      "metadata": {
        "id": "LUgIPcdpy9mn"
      },
      "execution_count": 48,
      "outputs": []
    },
    {
      "cell_type": "code",
      "source": [
        "price_model.evaluate(text_req_x, text_req_y,verbose=1)"
      ],
      "metadata": {
        "colab": {
          "base_uri": "https://localhost:8080/"
        },
        "id": "vDVA0R3ozjzz",
        "outputId": "59ba3a32-b345-45c0-cfe4-865261691b65"
      },
      "execution_count": 49,
      "outputs": [
        {
          "output_type": "stream",
          "name": "stdout",
          "text": [
            "\u001b[1m6/6\u001b[0m \u001b[32m━━━━━━━━━━━━━━━━━━━━\u001b[0m\u001b[37m\u001b[0m \u001b[1m0s\u001b[0m 3ms/step - accuracy: 0.0000e+00 - loss: 0.0939 - mse: 0.0939  \n"
          ]
        },
        {
          "output_type": "execute_result",
          "data": {
            "text/plain": [
              "[0.1072646751999855, 0.1072646751999855, 0.0]"
            ]
          },
          "metadata": {},
          "execution_count": 49
        }
      ]
    },
    {
      "cell_type": "code",
      "source": [
        "predict_on_text=price_model.predict(text_req_x)"
      ],
      "metadata": {
        "colab": {
          "base_uri": "https://localhost:8080/"
        },
        "id": "fqJXygrhzx52",
        "outputId": "c8eaf092-b28b-49ab-ebb4-3160296cce64"
      },
      "execution_count": 50,
      "outputs": [
        {
          "output_type": "stream",
          "name": "stdout",
          "text": [
            "\u001b[1m6/6\u001b[0m \u001b[32m━━━━━━━━━━━━━━━━━━━━\u001b[0m\u001b[37m\u001b[0m \u001b[1m0s\u001b[0m 32ms/step\n"
          ]
        }
      ]
    },
    {
      "cell_type": "code",
      "source": [
        "print(predict_on_text)"
      ],
      "metadata": {
        "colab": {
          "base_uri": "https://localhost:8080/"
        },
        "id": "xC17_ThDz70F",
        "outputId": "3416fe05-71ca-41b6-9157-84ddfb7a800c"
      },
      "execution_count": 51,
      "outputs": [
        {
          "output_type": "stream",
          "name": "stdout",
          "text": [
            "[[-1.4364554 ]\n",
            " [-1.4070902 ]\n",
            " [-1.5079365 ]\n",
            " [-1.540384  ]\n",
            " [-1.4887164 ]\n",
            " [-1.4863098 ]\n",
            " [-1.5317471 ]\n",
            " [-1.5201821 ]\n",
            " [-1.561653  ]\n",
            " [-1.5995538 ]\n",
            " [-1.5711937 ]\n",
            " [-1.6116582 ]\n",
            " [-1.5594649 ]\n",
            " [-1.5435555 ]\n",
            " [-1.5402207 ]\n",
            " [-1.4896348 ]\n",
            " [-1.4815766 ]\n",
            " [-1.5963565 ]\n",
            " [-1.5453448 ]\n",
            " [-1.5120159 ]\n",
            " [-1.4947741 ]\n",
            " [-1.6501588 ]\n",
            " [-1.5299857 ]\n",
            " [-1.5393826 ]\n",
            " [-1.5175284 ]\n",
            " [-1.6618692 ]\n",
            " [-1.540235  ]\n",
            " [-1.5304707 ]\n",
            " [-1.4266258 ]\n",
            " [-1.5732667 ]\n",
            " [-1.3533701 ]\n",
            " [-1.3244481 ]\n",
            " [-1.3747824 ]\n",
            " [-1.4515773 ]\n",
            " [-1.2405874 ]\n",
            " [-1.2114803 ]\n",
            " [-1.2154843 ]\n",
            " [-1.2031952 ]\n",
            " [-1.0054005 ]\n",
            " [-0.9444925 ]\n",
            " [-1.0674165 ]\n",
            " [-1.0899851 ]\n",
            " [-0.9068144 ]\n",
            " [-0.9501224 ]\n",
            " [-0.9879521 ]\n",
            " [-0.9990645 ]\n",
            " [-0.8179597 ]\n",
            " [-0.8212039 ]\n",
            " [-0.81779706]\n",
            " [-0.9096885 ]\n",
            " [-0.8156136 ]\n",
            " [-0.7484677 ]\n",
            " [-0.8172079 ]\n",
            " [-0.9107116 ]\n",
            " [-0.6995073 ]\n",
            " [-0.6144955 ]\n",
            " [-0.54551834]\n",
            " [-0.45449406]\n",
            " [-0.3926955 ]\n",
            " [-0.6079526 ]\n",
            " [-0.51303285]\n",
            " [-0.57358897]\n",
            " [-0.4549461 ]\n",
            " [-0.72161674]\n",
            " [-0.628127  ]\n",
            " [-0.75172347]\n",
            " [-0.526548  ]\n",
            " [-0.4811173 ]\n",
            " [-0.5413453 ]\n",
            " [-0.42307782]\n",
            " [-0.30951834]\n",
            " [-0.5339686 ]\n",
            " [-0.35734546]\n",
            " [-0.24907847]\n",
            " [-0.314497  ]\n",
            " [-0.15777773]\n",
            " [-0.19991082]\n",
            " [-0.2761848 ]\n",
            " [-0.06021897]\n",
            " [-0.18735857]\n",
            " [-0.3038938 ]\n",
            " [-0.1934424 ]\n",
            " [-0.22164358]\n",
            " [-0.2205602 ]\n",
            " [-0.01325639]\n",
            " [-0.2131486 ]\n",
            " [-0.11975375]\n",
            " [ 0.10585727]\n",
            " [ 0.1414404 ]\n",
            " [ 0.11337611]\n",
            " [ 0.1540998 ]\n",
            " [ 0.14536501]\n",
            " [ 0.22425313]\n",
            " [ 0.352863  ]\n",
            " [ 0.28723413]\n",
            " [ 0.49943036]\n",
            " [ 0.51428866]\n",
            " [ 0.3223946 ]\n",
            " [ 0.5739035 ]\n",
            " [ 0.5475009 ]\n",
            " [ 0.44716102]\n",
            " [ 0.5226312 ]\n",
            " [ 0.4981293 ]\n",
            " [ 0.60777336]\n",
            " [ 0.43059486]\n",
            " [ 0.49164867]\n",
            " [ 0.6278829 ]\n",
            " [ 0.72042644]\n",
            " [ 0.63645554]\n",
            " [ 0.66292936]\n",
            " [ 0.70014   ]\n",
            " [ 0.83157426]\n",
            " [ 0.765321  ]\n",
            " [ 0.7489582 ]\n",
            " [ 1.0302874 ]\n",
            " [ 1.0885121 ]\n",
            " [ 1.0900224 ]\n",
            " [ 1.1275109 ]\n",
            " [ 1.1084151 ]\n",
            " [ 0.9705611 ]\n",
            " [ 0.84508246]\n",
            " [ 0.78703403]\n",
            " [ 0.78004473]\n",
            " [ 0.90004754]\n",
            " [ 0.97848237]\n",
            " [ 0.9574639 ]\n",
            " [ 1.089975  ]\n",
            " [ 1.0546615 ]\n",
            " [ 1.1037201 ]\n",
            " [ 1.1433707 ]\n",
            " [ 1.0100284 ]\n",
            " [ 1.0518376 ]\n",
            " [ 1.0754265 ]\n",
            " [ 1.132868  ]\n",
            " [ 1.1584891 ]\n",
            " [ 1.2051841 ]\n",
            " [ 1.2139143 ]\n",
            " [ 1.3432889 ]\n",
            " [ 1.1721965 ]\n",
            " [ 1.2709953 ]\n",
            " [ 1.305959  ]\n",
            " [ 1.303038  ]\n",
            " [ 1.2989691 ]\n",
            " [ 1.2349112 ]\n",
            " [ 1.1593257 ]\n",
            " [ 1.1975945 ]\n",
            " [ 1.2295536 ]\n",
            " [ 1.1761361 ]\n",
            " [ 1.2058667 ]\n",
            " [ 1.1862148 ]\n",
            " [ 1.2201709 ]\n",
            " [ 1.3468665 ]\n",
            " [ 1.3319963 ]\n",
            " [ 1.3253447 ]\n",
            " [ 1.3542151 ]\n",
            " [ 1.3551959 ]\n",
            " [ 1.3340248 ]\n",
            " [ 1.2644135 ]\n",
            " [ 1.3243879 ]\n",
            " [ 1.3424984 ]\n",
            " [ 1.3153881 ]\n",
            " [ 1.2350926 ]\n",
            " [ 1.2014976 ]\n",
            " [ 0.9983118 ]\n",
            " [ 1.04782   ]\n",
            " [ 0.86245745]\n",
            " [ 0.7690676 ]\n",
            " [ 0.724852  ]\n",
            " [ 0.7937587 ]\n",
            " [ 0.8007535 ]\n",
            " [ 0.70539755]\n",
            " [ 0.5935337 ]\n",
            " [ 0.65507567]\n",
            " [ 0.63223857]\n",
            " [ 0.5020473 ]]\n"
          ]
        }
      ]
    },
    {
      "cell_type": "code",
      "source": [
        "predicted_value = sc.inverse_transform(predict_on_text)\n",
        "print(predicted_value)"
      ],
      "metadata": {
        "colab": {
          "base_uri": "https://localhost:8080/"
        },
        "id": "xgYzI7Fs0H4x",
        "outputId": "fa88f4e7-8456-444b-b2d5-36ecb6e5332f"
      },
      "execution_count": 55,
      "outputs": [
        {
          "output_type": "stream",
          "name": "stdout",
          "text": [
            "[[271.09976]\n",
            " [272.1227 ]\n",
            " [268.60968]\n",
            " [267.47934]\n",
            " [269.2792 ]\n",
            " [269.36304]\n",
            " [267.7802 ]\n",
            " [268.18307]\n",
            " [266.73843]\n",
            " [265.41812]\n",
            " [266.40607]\n",
            " [264.99646]\n",
            " [266.81464]\n",
            " [267.36887]\n",
            " [267.48502]\n",
            " [269.24722]\n",
            " [269.52792]\n",
            " [265.5295 ]\n",
            " [267.30652]\n",
            " [268.46756]\n",
            " [269.06818]\n",
            " [263.65527]\n",
            " [267.84158]\n",
            " [267.51422]\n",
            " [268.27554]\n",
            " [263.24734]\n",
            " [267.48453]\n",
            " [267.82468]\n",
            " [271.44217]\n",
            " [266.33386]\n",
            " [273.99408]\n",
            " [275.0016 ]\n",
            " [273.24817]\n",
            " [270.57297]\n",
            " [277.9229 ]\n",
            " [278.9369 ]\n",
            " [278.7974 ]\n",
            " [279.2255 ]\n",
            " [286.11578]\n",
            " [288.23755]\n",
            " [283.9554 ]\n",
            " [283.16922]\n",
            " [289.55008]\n",
            " [288.0414 ]\n",
            " [286.7236 ]\n",
            " [286.3365 ]\n",
            " [292.6454 ]\n",
            " [292.53238]\n",
            " [292.65103]\n",
            " [289.44995]\n",
            " [292.7271 ]\n",
            " [295.06616]\n",
            " [292.67157]\n",
            " [289.4143 ]\n",
            " [296.77173]\n",
            " [299.73315]\n",
            " [302.13602]\n",
            " [305.3069 ]\n",
            " [307.4597 ]\n",
            " [299.9611 ]\n",
            " [303.26767]\n",
            " [301.15817]\n",
            " [305.29114]\n",
            " [296.00153]\n",
            " [299.2583 ]\n",
            " [294.95276]\n",
            " [302.79688]\n",
            " [304.37946]\n",
            " [302.2814 ]\n",
            " [306.4013 ]\n",
            " [310.3572 ]\n",
            " [302.53836]\n",
            " [308.69113]\n",
            " [312.46265]\n",
            " [310.18378]\n",
            " [315.64316]\n",
            " [314.17545]\n",
            " [311.5184 ]\n",
            " [319.0417 ]\n",
            " [314.6127 ]\n",
            " [310.55313]\n",
            " [314.4008 ]\n",
            " [313.41837]\n",
            " [313.45612]\n",
            " [320.67764]\n",
            " [313.7143 ]\n",
            " [316.96774]\n",
            " [324.82703]\n",
            " [326.0666 ]\n",
            " [325.08896]\n",
            " [326.5076 ]\n",
            " [326.2033 ]\n",
            " [328.95142]\n",
            " [333.4316 ]\n",
            " [331.1454 ]\n",
            " [338.53735]\n",
            " [339.05496]\n",
            " [332.37024]\n",
            " [341.13168]\n",
            " [340.2119 ]\n",
            " [336.71652]\n",
            " [339.34558]\n",
            " [338.49203]\n",
            " [342.31155]\n",
            " [336.13943]\n",
            " [338.2663 ]\n",
            " [343.0121 ]\n",
            " [346.23587]\n",
            " [343.3107 ]\n",
            " [344.23294]\n",
            " [345.5292 ]\n",
            " [350.1078 ]\n",
            " [347.7998 ]\n",
            " [347.2298 ]\n",
            " [357.03006]\n",
            " [359.05835]\n",
            " [359.11096]\n",
            " [360.41687]\n",
            " [359.75168]\n",
            " [354.94946]\n",
            " [350.57834]\n",
            " [348.55618]\n",
            " [348.3127 ]\n",
            " [352.49307]\n",
            " [355.2254 ]\n",
            " [354.4932 ]\n",
            " [359.1093 ]\n",
            " [357.87915]\n",
            " [359.5881 ]\n",
            " [360.96936]\n",
            " [356.3243 ]\n",
            " [357.78076]\n",
            " [358.6025 ]\n",
            " [360.60352]\n",
            " [361.49603]\n",
            " [363.12268]\n",
            " [363.4268 ]\n",
            " [367.93362]\n",
            " [361.97354]\n",
            " [365.41525]\n",
            " [366.6332 ]\n",
            " [366.53146]\n",
            " [366.3897 ]\n",
            " [364.15823]\n",
            " [361.52518]\n",
            " [362.85828]\n",
            " [363.9716 ]\n",
            " [362.11078]\n",
            " [363.14645]\n",
            " [362.46185]\n",
            " [363.64474]\n",
            " [368.05826]\n",
            " [367.54025]\n",
            " [367.30853]\n",
            " [368.31424]\n",
            " [368.34842]\n",
            " [367.6109 ]\n",
            " [365.18597]\n",
            " [367.2752 ]\n",
            " [367.9061 ]\n",
            " [366.9617 ]\n",
            " [364.16455]\n",
            " [362.99426]\n",
            " [355.91617]\n",
            " [357.6408 ]\n",
            " [351.1836 ]\n",
            " [347.93033]\n",
            " [346.39005]\n",
            " [348.79044]\n",
            " [349.03412]\n",
            " [345.71234]\n",
            " [341.8155 ]\n",
            " [343.95935]\n",
            " [343.16382]\n",
            " [338.62854]]\n"
          ]
        }
      ]
    },
    {
      "cell_type": "code",
      "source": [
        "prev_price = numpy.array([324, 356, 456, 398, 320, 345, 301 ,302, 304, 309, 333, 322, 311, 344 ,355, 366, 377, 388, 399, 319, 329,339,349,359,369])\n",
        "sc_prices = sc.transform(prev_price.reshape(-1,1))\n",
        "model_input = numpy.reshape(sc_prices, (sc_prices.shape[1],1,sc_prices.shape[0]))\n",
        "pred = price_model.predict(model_input)\n",
        "stock_pred = sc.inverse_transform(pred)\n",
        "print(stock_pred)"
      ],
      "metadata": {
        "colab": {
          "base_uri": "https://localhost:8080/"
        },
        "id": "mhMAqE6v1v-b",
        "outputId": "31d35c26-df4e-4894-941f-3e31d886f3bb"
      },
      "execution_count": 65,
      "outputs": [
        {
          "output_type": "stream",
          "name": "stdout",
          "text": [
            "\u001b[1m1/1\u001b[0m \u001b[32m━━━━━━━━━━━━━━━━━━━━\u001b[0m\u001b[37m\u001b[0m \u001b[1m0s\u001b[0m 21ms/step\n",
            "[[349.76956]]\n"
          ]
        }
      ]
    }
  ]
}